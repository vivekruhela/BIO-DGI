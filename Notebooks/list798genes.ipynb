{
 "cells": [
  {
   "cell_type": "code",
   "execution_count": 1,
   "metadata": {},
   "outputs": [],
   "source": [
    "import pandas as pd\n",
    "from tqdm import tqdm"
   ]
  },
  {
   "cell_type": "code",
   "execution_count": 2,
   "metadata": {},
   "outputs": [
    {
     "name": "stderr",
     "output_type": "stream",
     "text": [
      "/home/vivek/.local/lib/python3.9/site-packages/openpyxl/worksheet/_reader.py:312: UserWarning: Unknown extension is not supported and will be removed\n",
      "  warn(msg)\n"
     ]
    }
   ],
   "source": [
    "driver_list1 = pd.read_csv('/home/vivek/driverGenes_Oncogene_TSG/IntOGen-DriverGenes_MM.tsv',\n",
    "                           sep = '\\t',\n",
    "                          index_col = 0).index.tolist()\n",
    "driver_list1 = [i.replace(' ','') for i in driver_list1]\n",
    "\n",
    "driver_list2 = open('/home/vivek/driverGenes_Oncogene_TSG/list_of_63_driver_genes.txt').read().split('\\n')\n",
    "driver_list2 = [i.replace(' ','') for i in driver_list2]\n",
    "\n",
    "driver_list3 = open('/home/vivek/driverGenes_Oncogene_TSG/Genomic_landscape_and_chronological_reconstruction_of_driver_events_in_multiple.txt').read().split('\\n')\n",
    "driver_list3 = [i.replace(' ','') for i in driver_list3]\n",
    "\n",
    "driver_list = list(set(driver_list1 + driver_list2 + driver_list3))\n",
    "\n",
    "oncokb = pd.read_csv('/home/vivek/driverGenes_Oncogene_TSG/cancerGeneList.tsv', sep='\\t', index_col=0)\n",
    "oncokb_oncogenes = oncokb[oncokb['Is Oncogene'] == 'Yes'].index.tolist()\n",
    "oncokb_tsg = oncokb[oncokb['Is Tumor Suppressor Gene'] == 'Yes'].index.tolist()\n",
    "cosmic = pd.read_csv('/home/vivek/driverGenes_Oncogene_TSG/cosmic_v97/Cosmic_v97.csv', index_col=0, header=0)\n",
    "cosmic_oncogene = [cosmic.index.tolist()[i] for i in range(cosmic.shape[0]) if 'oncogene' in str(cosmic.iloc[i,13])]\n",
    "cosmic_tsg = [cosmic.index.tolist()[i] for i in range(cosmic.shape[0]) if 'TSG' in str(cosmic.iloc[i,13])]\n",
    "oncogenes = list(set(oncokb_oncogenes + cosmic_oncogene))\n",
    "tsg = list(set(oncokb_tsg + cosmic_tsg))\n",
    "odg = sorted(list(set(oncogenes) & set(driver_list)))\n",
    "both_onco_tsg = [i for i in oncogenes if i in tsg]\n",
    "\n",
    "cosmic_actionable_gene1 = pd.read_excel('/home/vivek/driverGenes_Oncogene_TSG/LIST_OF_ACTIONABLE_GENE.xlsx').iloc[:,0].tolist()\n",
    "target_actionable_gene1 = pd.read_excel('/home/vivek/driverGenes_Oncogene_TSG/TARGET_db_v3_02142015.xlsx')['Gene'].values.tolist()\n",
    "all_ag = list(set(cosmic_actionable_gene1 + target_actionable_gene1))"
   ]
  },
  {
   "cell_type": "code",
   "execution_count": 3,
   "metadata": {},
   "outputs": [],
   "source": [
    "gene798 = open(\"/home/vivek/jupyter_notebooks/bio_dgi_extension/all_genes_798.txt\").read().split('\\n')\n",
    "gene798 = [i for i in gene798 if i != '']"
   ]
  },
  {
   "cell_type": "code",
   "execution_count": 4,
   "metadata": {},
   "outputs": [
    {
     "data": {
      "text/plain": [
       "19"
      ]
     },
     "execution_count": 4,
     "metadata": {},
     "output_type": "execute_result"
    }
   ],
   "source": [
    "[i for i in gene798 if i in all_ag].__len__()"
   ]
  },
  {
   "cell_type": "code",
   "execution_count": 5,
   "metadata": {},
   "outputs": [
    {
     "name": "stderr",
     "output_type": "stream",
     "text": [
      "100%|██████████| 798/798 [00:00<00:00, 39636.38it/s]"
     ]
    },
    {
     "name": "stderr",
     "output_type": "stream",
     "text": [
      "\n"
     ]
    },
    {
     "data": {
      "text/html": [
       "<div>\n",
       "<style scoped>\n",
       "    .dataframe tbody tr th:only-of-type {\n",
       "        vertical-align: middle;\n",
       "    }\n",
       "\n",
       "    .dataframe tbody tr th {\n",
       "        vertical-align: top;\n",
       "    }\n",
       "\n",
       "    .dataframe thead th {\n",
       "        text-align: right;\n",
       "    }\n",
       "</style>\n",
       "<table border=\"1\" class=\"dataframe\">\n",
       "  <thead>\n",
       "    <tr style=\"text-align: right;\">\n",
       "      <th></th>\n",
       "      <th>gene</th>\n",
       "      <th>driver</th>\n",
       "      <th>onco</th>\n",
       "      <th>onco_driver</th>\n",
       "      <th>tsg</th>\n",
       "      <th>ag</th>\n",
       "    </tr>\n",
       "  </thead>\n",
       "  <tbody>\n",
       "    <tr>\n",
       "      <th>0</th>\n",
       "      <td>ABCA1</td>\n",
       "      <td>No</td>\n",
       "      <td>No</td>\n",
       "      <td>No</td>\n",
       "      <td>No</td>\n",
       "      <td>No</td>\n",
       "    </tr>\n",
       "    <tr>\n",
       "      <th>1</th>\n",
       "      <td>ABCA3</td>\n",
       "      <td>No</td>\n",
       "      <td>No</td>\n",
       "      <td>No</td>\n",
       "      <td>No</td>\n",
       "      <td>No</td>\n",
       "    </tr>\n",
       "    <tr>\n",
       "      <th>2</th>\n",
       "      <td>ABCA7</td>\n",
       "      <td>No</td>\n",
       "      <td>No</td>\n",
       "      <td>No</td>\n",
       "      <td>No</td>\n",
       "      <td>No</td>\n",
       "    </tr>\n",
       "    <tr>\n",
       "      <th>3</th>\n",
       "      <td>ABL2</td>\n",
       "      <td>No</td>\n",
       "      <td>Yes</td>\n",
       "      <td>No</td>\n",
       "      <td>No</td>\n",
       "      <td>No</td>\n",
       "    </tr>\n",
       "    <tr>\n",
       "      <th>4</th>\n",
       "      <td>ACACB</td>\n",
       "      <td>No</td>\n",
       "      <td>No</td>\n",
       "      <td>No</td>\n",
       "      <td>No</td>\n",
       "      <td>No</td>\n",
       "    </tr>\n",
       "  </tbody>\n",
       "</table>\n",
       "</div>"
      ],
      "text/plain": [
       "    gene driver onco onco_driver tsg  ag\n",
       "0  ABCA1     No   No          No  No  No\n",
       "1  ABCA3     No   No          No  No  No\n",
       "2  ABCA7     No   No          No  No  No\n",
       "3   ABL2     No  Yes          No  No  No\n",
       "4  ACACB     No   No          No  No  No"
      ]
     },
     "execution_count": 5,
     "metadata": {},
     "output_type": "execute_result"
    }
   ],
   "source": [
    "df = pd.DataFrame()\n",
    "whether_onco, whether_tsg, whether_odg, whether_driver, whether_ag = [], [], [], [], []\n",
    "\n",
    "for i in tqdm(gene798):\n",
    "    if i in driver_list:\n",
    "        whether_driver.append('Yes')\n",
    "    else:\n",
    "        whether_driver.append('No')\n",
    "        \n",
    "    if i in oncogenes:\n",
    "        whether_onco.append('Yes')\n",
    "    else:\n",
    "        whether_onco.append('No')\n",
    "    \n",
    "    if i in tsg:\n",
    "        whether_tsg.append('Yes')\n",
    "    else:\n",
    "        whether_tsg.append('No')\n",
    "        \n",
    "    if i in oncogenes and i in driver_list:\n",
    "        whether_odg.append('Yes')\n",
    "    else:\n",
    "        whether_odg.append('No')\n",
    "        \n",
    "    if i in all_ag:\n",
    "        whether_ag.append('Yes')\n",
    "    else:\n",
    "        whether_ag.append('No')\n",
    "        \n",
    "df[\"gene\"] = gene798\n",
    "df[\"driver\"] = whether_driver\n",
    "df[\"onco\"] = whether_onco\n",
    "df[\"onco_driver\"] = whether_odg\n",
    "df[\"tsg\"] = whether_tsg\n",
    "df[\"ag\"] = whether_ag\n",
    "df.to_excel(\"/home/vivek/jupyter_notebooks/bio_dgi_extension/798genes.xlsx\", index=False)\n",
    "df.head()        "
   ]
  },
  {
   "cell_type": "code",
   "execution_count": null,
   "metadata": {},
   "outputs": [],
   "source": []
  },
  {
   "cell_type": "code",
   "execution_count": null,
   "metadata": {},
   "outputs": [],
   "source": []
  }
 ],
 "metadata": {
  "kernelspec": {
   "display_name": "base",
   "language": "python",
   "name": "python3"
  },
  "language_info": {
   "codemirror_mode": {
    "name": "ipython",
    "version": 3
   },
   "file_extension": ".py",
   "mimetype": "text/x-python",
   "name": "python",
   "nbconvert_exporter": "python",
   "pygments_lexer": "ipython3",
   "version": "3.9.13"
  },
  "orig_nbformat": 4
 },
 "nbformat": 4,
 "nbformat_minor": 2
}
